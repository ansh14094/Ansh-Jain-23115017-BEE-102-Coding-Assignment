{
 "cells": [
  {
   "cell_type": "markdown",
   "id": "739f207f",
   "metadata": {},
   "source": [
    "# Q2: Building Markov transition matrix\n",
    "You have learned important differences between simple dinucleotide frequency model and Markov models. Your goal is to build one from the input sequence. In the Jupyter notebook, you should print the transition matrix."
   ]
  },
  {
   "cell_type": "markdown",
   "id": "0f92cfc7",
   "metadata": {},
   "source": [
    "## Markov Processes and Transition Matrices for DNA Sequence Analysis\n",
    "\n",
    "## 1. Introduction to Markov Processes\n",
    "\n",
    "A Markov process is a way to model a series of events where the chance of what happens next depends only on what is happening now — not on how you got there.  \n",
    "This is called the **Markov property** or **memorylessness**.\n",
    "\n",
    "In simple words:  \n",
    "Knowing the present is enough. The past does not matter.\n",
    "\n",
    "## 2. Markov Transition Matrix\n",
    "\n",
    "A transition matrix shows the chances of moving from one state to another in one step.  \n",
    "If there are \\( n \\) states, the matrix \\( P \\) is \\( n times n \\) where:\n",
    "\n",
    "$$\n",
    "P(i,j) = \\text{chance of going from state } i \\text{ to state } j\n",
    "$$\n",
    "\n",
    "**Key points:**\n",
    "- Each row shows the chances of all possible next moves from a state.\n",
    "- Every value is non-negative.\n",
    "- Each row adds up to 1 (since something must happen)."
   ]
  },
  {
   "cell_type": "markdown",
   "id": "1d7e9b16",
   "metadata": {},
   "source": [
    "## 3. Real-World Example: Ana's Transportation\n",
    "\n",
    "Ana has three ways to commute to her college:\n",
    "- Bus\n",
    "- Cab\n",
    "- E-rickshaw\n",
    "\n",
    "Each day's choice depends **only** on the previous day's mode of transport.  \n",
    "This follows a **first-order Markov process**.\n",
    "\n",
    "The transition probabilities are:\n",
    "- If today **Bus**: 50% Cab, 30% E-rickshaw, 20% Bus\n",
    "- If today **Cab**: 80% Bus, 15% E-rickshaw, 5% Cab\n",
    "- If today **E-rickshaw**: 40% Cab, 30% E-rickshaw, 30% Bus\n",
    "\n",
    "This can be represented by the following transition matrix:\n",
    "\n",
    "| From \\\\ To | Bus | Cab | E-rickshaw |\n",
    "|:---------:|:---:|:---:|:----------:|\n",
    "| Bus       | 0.2 | 0.5 | 0.3        |\n",
    "| Cab       | 0.8 | 0.05| 0.15       |\n",
    "| E-rickshaw| 0.3 | 0.4 | 0.3        |\n",
    "\n"
   ]
  },
  {
   "cell_type": "markdown",
   "id": "42011459",
   "metadata": {},
   "source": [
    "## 4. DNA Sequences as Markov Chains\n",
    "\n",
    "We can model DNA sequences using Markov chains, where:\n",
    "- **States** are the nucleotides: A, T, G, and C.\n",
    "- **Transitions** happen when one nucleotide is followed by another.\n",
    "- A **first-order Markov model** assumes that the next nucleotide depends only on the current one.\n",
    "\n",
    "## 5. First-Order Markov Model for DNA\n",
    "\n",
    "For DNA, the transition matrix is \\( 4 \\times 4 \\), showing how likely each nucleotide is to follow another.  \n",
    "This matters biologically because:\n",
    "- Some nucleotides prefer to follow others due to chemical properties.\n",
    "- Codons (sets of three nucleotides) have special roles in making proteins.\n",
    "- Regulatory regions have certain repeating patterns.\n",
    "\n",
    "## 6. Example Scenario\n",
    "\n",
    "Imagine the following DNA sequence:\n",
    "\n",
    "```\n",
    "ATGCATGCAATCGTAGCTACGATCGACTGATCGATGCTAGCTAGCTA\n",
    "```\n",
    "\n",
    "We can use a first-order Markov chain to model how nucleotides follow each other.\n",
    "\n",
    "The transition matrix shows:\n",
    "- \\( P(A -> A) \\): Chance that A is followed by A.\n",
    "- \\( P(A -> T) \\): Chance that A is followed by T.\n",
    "- And so on for all 16 possible transitions.\n"
   ]
  },
  {
   "cell_type": "markdown",
   "id": "596173f0",
   "metadata": {},
   "source": [
    "## Function: build_markov_transition_matrix\n",
    "\n",
    "The function below:  \n",
    "1. Initializes a 4×4 count matrix for nucleotides A,T,G,C.  \n",
    "2. Slides along the sequence and **counts** each transition \\(n_i \\to n_{i+1}\\).  \n",
    "3. **Normalizes** each row so that the probabilities sum to 1.0.  \n",
    "\n",
    "It returns both the **probability** matrix and the **raw counts**.\n"
   ]
  },
  {
   "cell_type": "code",
   "execution_count": 1,
   "id": "f0f467bd",
   "metadata": {},
   "outputs": [],
   "source": [
    "def build_markov_transition_matrix(dna_sequence):\n",
    "    # Initialize counts matrix\n",
    "    nucleotides = ['A', 'T', 'G', 'C']\n",
    "    counts = {n1: {n2: 0 for n2 in nucleotides} for n1 in nucleotides}\n",
    "    \n",
    "    # Count transitions\n",
    "    for i in range(len(dna_sequence) - 1):\n",
    "        current = dna_sequence[i]\n",
    "        next_nuc = dna_sequence[i + 1]\n",
    "        counts[current][next_nuc] += 1\n",
    "    \n",
    "    # Calculate probabilities\n",
    "    transition_matrix = {}\n",
    "    for n1 in nucleotides:\n",
    "        total = sum(counts[n1].values())\n",
    "        if total > 0:  \n",
    "            transition_matrix[n1] = {n2: counts[n1][n2]/total for n2 in nucleotides}\n",
    "        else:\n",
    "            transition_matrix[n1] = {n2: 0.0 for n2 in nucleotides}\n",
    "    \n",
    "    return transition_matrix, counts\n",
    "    "
   ]
  },
  {
   "cell_type": "markdown",
   "id": "468f2888",
   "metadata": {},
   "source": [
    "## 7. Calculating the Transition Matrix\n",
    "\n",
    "To build the matrix:\n",
    "1. **Count** how many times each pair of nucleotides appears next to each other.\n",
    "2. **Normalize** by dividing the counts for each starting nucleotide so the total for each row is 1.\n",
    "\n",
    "## Function: build_dinucleotide_frequency_model\n",
    "\n",
    "This function constructs the **joint** dinucleotide frequency matrix:\n",
    "\n",
    "1. Initializes counts for all 16 pairs (AA, AT, …, CC).  \n",
    "2. Slides a window of size 2 and **counts** each overlapping pair.  \n",
    "3. Normalizes by the total number of pairs (\\(L-1\\)).  \n",
    "\n",
    "It returns both the **joint probability** dict and the **raw counts**.\n"
   ]
  },
  {
   "cell_type": "code",
   "execution_count": 2,
   "id": "42a25dec",
   "metadata": {},
   "outputs": [],
   "source": [
    "def build_dinucleotide_frequency_model(dna_sequence):\n",
    "    # Initialize counts dictionary\n",
    "    nucleotides = ['A', 'T', 'G', 'C']\n",
    "    dinucleotide_counts = {n1 + n2: 0 for n1 in nucleotides for n2 in nucleotides}\n",
    "    total_dinucleotides = 0\n",
    "    \n",
    "    # Count dinucleotides\n",
    "    for i in range(len(dna_sequence) - 1):\n",
    "        dinucleotide = dna_sequence[i:i+2]\n",
    "        if dinucleotide in dinucleotide_counts:\n",
    "            dinucleotide_counts[dinucleotide] += 1\n",
    "            total_dinucleotides += 1\n",
    "    \n",
    "    # Calculate frequencies\n",
    "    dinucleotide_frequencies = {dinuc: count/total_dinucleotides \n",
    "                              for dinuc, count in dinucleotide_counts.items()}\n",
    "    \n",
    "    return dinucleotide_frequencies, dinucleotide_counts"
   ]
  },
  {
   "cell_type": "code",
   "execution_count": 3,
   "id": "c448875b",
   "metadata": {},
   "outputs": [],
   "source": [
    "sequence = \"ATGCATGCAATCGTAGCTACGATCGACTGATCGATGCTAGCTAGCTA\"\n",
    "\n",
    "# Build both models\n",
    "markov_matrix, markov_counts = build_markov_transition_matrix(sequence)\n",
    "dinuc_freqs, dinuc_counts = build_dinucleotide_frequency_model(sequence)"
   ]
  },
  {
   "cell_type": "markdown",
   "id": "7a0a5c92",
   "metadata": {},
   "source": [
    "### Display: Markov Transition Matrix\n",
    "\n",
    "Below we format and print the 4×4 Markov matrix \n",
    "$P(\\text{next}=j \\mid \\text{current}=i)$  \n",
    "- Rows are current nucleotide  \n",
    "- Columns are next nucleotide  \n",
    "- Each row sums to 1.\n"
   ]
  },
  {
   "cell_type": "code",
   "execution_count": 4,
   "id": "d762573a",
   "metadata": {},
   "outputs": [
    {
     "name": "stdout",
     "output_type": "stream",
     "text": [
      "Markov Transition Matrix:\n",
      "       A     T     G     C\n",
      "A: 0.083 0.500 0.250 0.167\n",
      "T: 0.417 0.000 0.333 0.250\n",
      "G: 0.364 0.091 0.000 0.545\n",
      "C: 0.182 0.455 0.364 0.000\n"
     ]
    }
   ],
   "source": [
    "# Print Markov transition matrix\n",
    "print(\"Markov Transition Matrix:\")\n",
    "nucleotides = ['A', 'T', 'G', 'C']\n",
    "print(\"   \" + \" \".join(f\"{n:>5}\" for n in nucleotides))\n",
    "for n1 in nucleotides:\n",
    "    row = [f\"{markov_matrix[n1][n2]:.3f}\" for n2 in nucleotides]\n",
    "    print(f\"{n1}: {' '.join(f'{val:>5}' for val in row)}\")"
   ]
  },
  {
   "cell_type": "markdown",
   "id": "d2f4c961",
   "metadata": {},
   "source": [
    "### Display: Dinucleotide Frequency Model\n",
    "\n",
    "Now we print the **joint** dinucleotide frequencies \n",
    "$P_{\\mathrm{di}}(XY)$ for each pair.  \n",
    "- The **entire** matrix sums to 1.\n"
   ]
  },
  {
   "cell_type": "code",
   "execution_count": 5,
   "id": "298d68cc",
   "metadata": {},
   "outputs": [
    {
     "name": "stdout",
     "output_type": "stream",
     "text": [
      "\n",
      "Dinucleotide Frequency Model:\n",
      "       A     T     G     C\n",
      "A: 0.022 0.130 0.065 0.043\n",
      "T: 0.109 0.000 0.087 0.065\n",
      "G: 0.087 0.022 0.000 0.130\n",
      "C: 0.043 0.109 0.087 0.000\n"
     ]
    }
   ],
   "source": [
    "# Print dinucleotide frequencies in a matrix format for comparison\n",
    "print(\"\\nDinucleotide Frequency Model:\")\n",
    "print(\"   \" + \" \".join(f\"{n:>5}\" for n in nucleotides))\n",
    "for n1 in nucleotides:\n",
    "    row = [f\"{dinuc_freqs[n1+n2]:.3f}\" for n2 in nucleotides]\n",
    "    print(f\"{n1}: {' '.join(f'{val:>5}' for val in row)}\")"
   ]
  },
  {
   "cell_type": "markdown",
   "id": "43ee644e",
   "metadata": {},
   "source": [
    "## Conclusion\n",
    "\n",
    "- **Markov Model** (`build_markov_transition_matrix`):  \n",
    "  - Computes conditional probabilities $P(B\\mid A)$ for each adjacent pair.  \n",
    "  - Rows of the matrix each sum to 1.0, reflecting “given current state $A$, what’s next?”\n",
    "\n",
    "- **Dinucleotide Frequency Model** (`build_dinucleotide_frequency_model`):  \n",
    "  - Computes joint probabilities $P_{\\mathrm{di}}(A,B)$ of overlapping pairs.  \n",
    "  - Entire matrix sums to 1.0, reflecting overall pair frequencies.\n",
    "\n"
   ]
  }
 ],
 "metadata": {
  "kernelspec": {
   "display_name": "base",
   "language": "python",
   "name": "python3"
  },
  "language_info": {
   "codemirror_mode": {
    "name": "ipython",
    "version": 3
   },
   "file_extension": ".py",
   "mimetype": "text/x-python",
   "name": "python",
   "nbconvert_exporter": "python",
   "pygments_lexer": "ipython3",
   "version": "3.11.5"
  }
 },
 "nbformat": 4,
 "nbformat_minor": 5
}
