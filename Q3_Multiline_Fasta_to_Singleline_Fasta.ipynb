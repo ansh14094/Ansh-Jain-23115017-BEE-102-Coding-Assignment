{
 "cells": [
  {
   "cell_type": "markdown",
   "id": "6829047e",
   "metadata": {},
   "source": [
    "# Q3: Multi-line FASTA to Single-line FASTA\n",
    "\n",
    "## Problem Statement\n",
    "\n",
    "Fasta file format is shown below. Many times, it is annoying to find sequences of interest because of fix-width format, i.e., if 60 character fix-width file is there then only except the header `(starting with >)` of the sequence each line will have 60 characters. So, if a sequence is of width 600, then it would be written in 10 lines. Your goal is convert this format to a format with header in a single line followed by its sequence in a single line.\n",
    "\n",
    "## Example Input\n",
    "\n",
    "\\>this is a long sequence\n",
    "GTTCTACTTGCGGACGGATCGTAACCGAACTGGCCCGGATCTTTCATCCTCATGTAGAT\n",
    "GCACAAAAGGTTCATCTAATAGTACTACCTCTTCTACTCGC  \n",
    "\\>this is okay  \n",
    "GGTTCATCTAATAGTACTACCTCTTCTACTCGC \n",
    "\n",
    "## Example Output\n",
    "\n",
    "\\>this is a long sequence\n",
    "GTTCTACTTGCGGACGGATCGTAACCGAACTGGCCCGGATCTTTCATCCTCATGTAGATGCACAAAAGGTTCATCTAATAGTACTACCTCTTCTACTCGC  \n",
    "\\>this is okay  \n",
    "GGTTCATCTAATAGTACTACCTCTTCTACTCGC "
   ]
  },
  {
   "cell_type": "markdown",
   "id": "d0e7e615",
   "metadata": {},
   "source": [
    "### Key Requirements\n",
    "1. **Memory Efficiency**: Handle large sequences (e.g., human chromosomes with 220M+ bases) without storing entire sequences in memory.\n",
    "2. **Correct Formatting**:\n",
    "   - Headers (`>...`) remain unchanged.\n",
    "   - Sequences are concatenated into a single line.\n",
    "3. **Verification**: Compare input/output files to validate correctness.\n",
    "\n",
    "### Approach\n",
    "1. **Stream Processing**:\n",
    "   - Read lines sequentially (no in-memory storage of entire sequences).\n",
    "   - Write headers immediately; concatenate sequence lines on-the-fly.\n",
    "2. **State Tracking**:\n",
    "   - Use a flag (`in_sequence`) to detect transitions between headers and sequences.\n",
    "3. **Verification**:\n",
    "   - Print the first 5 lines of both input and output files for visual comparison.\n",
    "\n",
    "### Code Explanation\n",
    "1. **Conversion Logic**:\n",
    "   - **Headers**: Written directly to the output file.\n",
    "   - **Sequences**: Stripped of newlines and written immediately to avoid memory buildup.\n",
    "   - **Edge Cases**:\n",
    "     - Empty lines in input are ignored.\n",
    "     - Final newline added if the file ends with a sequence.\n",
    "\n",
    "2. **Verification Logic**:\n",
    "   - Prints the first 5 lines of both files to confirm:\n",
    "     - Headers are preserved.\n",
    "     - Sequences are collapsed into single lines.\n"
   ]
  },
  {
   "cell_type": "code",
   "execution_count": 1,
   "id": "1a9ae367",
   "metadata": {},
   "outputs": [],
   "source": [
    "with open('multiline_input.fasta', 'r') as f_input, open('singleLine_output.fasta', 'w') as f_output:\n",
    "    in_sequence = False\n",
    "    for line in f_input:\n",
    "        if line.startswith('>'):\n",
    "            if in_sequence:\n",
    "                f_output.write('\\n')\n",
    "            f_output.write(line)\n",
    "            in_sequence = True  # Next lines are expected to be sequence\n",
    "        else:\n",
    "            stripped = line.strip()\n",
    "            if stripped:\n",
    "                f_output.write(stripped)\n",
    "                in_sequence = True  # Ensure state is updated\n",
    "    # Add a final newline if the file ends with a sequence\n",
    "    if in_sequence:\n",
    "        f_output.write('\\n')"
   ]
  },
  {
   "cell_type": "code",
   "execution_count": 2,
   "id": "2c463b57",
   "metadata": {},
   "outputs": [
    {
     "name": "stdout",
     "output_type": "stream",
     "text": [
      "===== Original File Preview =====\n",
      ">1\n",
      "TCCAATTGAGCTATACCGTCAGAAGTAGATGAGATCTAACGGCGCGCCCGGTTGTCGCAG\n",
      "CCACGCTAGGCACAGTCAAAGCAGTGACCCAGCCCTTCAGACGTTACTGTGAAAATCTGT\n",
      "CCACCGAGAACGCTTTCAAAATATATTAGCGGTTTAAGCTAGGCAAGTCACGGCATGTCC\n",
      "TTACAAAAGCCTACGAGCCGGGCCACATTATGTCGCCCATAAGATGCCAATACAATCTCA\n",
      "\n",
      "===== Converted File Preview =====\n",
      ">1\n",
      "TCCAATTGAGCTATACCGTCAGAAGTAGATGAGATCTAACGGCGCGCCCGGTTGTCGCAGCCACGCTAGGCACAGTCAAAGCAGTGACCCAGCCCTTCAGACGTTACTGTGAAAATCTGTCCACCGAGAACGCTTTCAAAATATATTAGCGGTTTAAGCTAGGCAAGTCACGGCATGTCCTTACAAAAGCCTACGAGCCGGGCCACATTATGTCGCCCATAAGATGCCAATACAATCTCAAGTAGGATAAGCATGTCTTACCACTAGCGTTCTGTGTTTGTGGGGTTACGCGTTGTGTTACCAACGGTCCCCTATAGCTCAGCAGTAATAAGTTTTATTGTGCTCAAGGCC\n",
      ">2\n",
      "GATAGCGACGACGCTAGTTCCTAGGGACCCGGGGGGGATCAGTGGTGACGGTATGCTCTTGCTGGTGCGACCCGTAACGAAGTCACATGGGTAGTGGCGGCACAGGATATCGTAGTGACAGGAACCTGATATTCCGTTGCAGAACACACGCGACAATCTACAAGTTATTTTCGGCTGAGTTACTTACTCACAAGATCCACATGGAAATTTAATATACGACGCTGAGGAGGGTTGCACAACGGCTCTCTTTCCTAAGAACAGAATTGCCTAAGAATTCAGAGCTCAAAGGCTCCATTTCTTGAGGTATGGTCGTCGGTATATTAACGGTGCTA\n",
      ">3\n"
     ]
    }
   ],
   "source": [
    "# Verification: Print first 5 lines of both files for comparison\n",
    "print(\"===== Original File Preview =====\")\n",
    "with open('multiline_input.fasta', 'r') as f:\n",
    "    for _ in range(5):\n",
    "        line = f.readline()\n",
    "        if not line:\n",
    "            break\n",
    "        print(line.strip())\n",
    "\n",
    "print(\"\\n===== Converted File Preview =====\")\n",
    "with open('singleLine_output.fasta', 'r') as f:\n",
    "    for _ in range(5):\n",
    "        line = f.readline()\n",
    "        if not line:\n",
    "            break\n",
    "        print(line.strip())"
   ]
  },
  {
   "cell_type": "markdown",
   "id": "9589148d",
   "metadata": {},
   "source": [
    "## Conclusion  \n",
    "- **Efficient Conversion**: Streamlined multi-line to single-line FASTA conversion without memory overload.  \n",
    "- **Correct Formatting**: Preserves headers, merges sequences, and handles edge cases.  \n",
    "- **Verification**: Includes file previews to confirm accuracy.  \n",
    "- **Optimal for Large Data**: Processes sequences line-by-line, ideal for genome-scale files.  "
   ]
  }
 ],
 "metadata": {
  "kernelspec": {
   "display_name": "base",
   "language": "python",
   "name": "python3"
  },
  "language_info": {
   "codemirror_mode": {
    "name": "ipython",
    "version": 3
   },
   "file_extension": ".py",
   "mimetype": "text/x-python",
   "name": "python",
   "nbconvert_exporter": "python",
   "pygments_lexer": "ipython3",
   "version": "3.11.5"
  }
 },
 "nbformat": 4,
 "nbformat_minor": 5
}
