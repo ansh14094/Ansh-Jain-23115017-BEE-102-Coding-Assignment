{
 "cells": [
  {
   "cell_type": "markdown",
   "id": "f3d8f1c1",
   "metadata": {},
   "source": [
    "## Question 4: Viterbi Algorithm\n",
    "\n",
    "\n",
    "\n",
    "\n",
    "## 1. Hidden Markov Models (HMMs)  \n",
    "\n",
    "### 1.1 What Is an HMM?  \n",
    "A statistical model for systems that:  \n",
    "- Evolve through a sequence of **hidden states** (unobserved).  \n",
    "- Produce **observations** at each time step, dependent only on the current hidden state.  \n",
    "\n",
    "**Key Idea**: The true state sequence is hidden; only outputs (observations) are visible.  \n",
    "\n",
    "\n",
    "\n",
    "### 1.2 Core Components  \n",
    "An HMM is defined by the tuple $\\lambda = (\\pi, A, B)$:  \n",
    "\n",
    "| Component               | Description                                                                 |  \n",
    "|-------------------------|-----------------------------------------------------------------------------|  \n",
    "| **States** $S = \\{s_1, s_2, ..., s_N\\}$ | Hidden conditions (e.g., \"Exon\", \"Intron\").                                |  \n",
    "| **Observations** $V = \\{v_1, v_2, ..., v_M\\}$ | Emitted symbols (e.g., nucleotides A/C/G/T).                             |  \n",
    "| **Initial Distribution** $\\pi_i = P(q_1 = s_i)$ | Probability of starting in state $s_i$.                            |  \n",
    "| **Transition Matrix** $A = [a_{ij}]$, $a_{ij} = P(q_{t+1}=s_j \\mid q_t=s_i)$ | Probability of moving from $s_i$ to $s_j$. |  \n",
    "| **Emission Matrix** $B = [b_i(k)]$, $b_i(k) = P(O_t=v_k \\mid q_t=s_i)$ | Probability of emitting $v_k$ in state $s_i$. |  \n",
    "\n",
    "\n",
    "\n",
    "### 1.3 Key Assumptions  \n",
    "1. **Markov Property**:  \n",
    "   $$ P(q_{t+1} \\mid q_1, ..., q_t) = P(q_{t+1} \\mid q_t) $$  \n",
    "   *Future depends only on the current state*.  \n",
    "\n",
    "     \n",
    "2. **Emission Independence**:  \n",
    "   $$ P(O_t \\mid q_1, ..., q_t, ...) = P(O_t \\mid q_t) $$  \n",
    "   *Observations depend only on the current state*.  \n",
    "\n",
    "\n",
    "\n",
    "### 1.4 Key Algorithms\n",
    "\n",
    "1. **Forward Algorithm**: Computes the probability of a given sequence of observations.\n",
    "2. **Viterbi Algorithm**: Finds the most likely sequence of hidden states for a given sequence of observations.\n",
    "3. **Baum-Welch Algorithm**: An Expectation-Maximization (EM) algorithm used for training the model (i.e., estimating the transition and emission probabilities).\n",
    "\n",
    "\n",
    "\n",
    "## 2. Example: DNA Sequence Analysis  \n",
    "\n",
    "### States and Observations  \n",
    "- **States**: $\\{H, L\\}$ (High vs. Low GC content).  \n",
    "- **Observations**: $\\{A, C, G, T\\}$.  \n",
    "\n",
    "### Parameters  \n",
    "- **Initial Probabilities**: $\\pi_H = \\pi_L = 0.5$.  \n",
    "- **Transitions**:  \n",
    "  - $H \\to H: 0.9$, $H \\to L: 0.1$.  \n",
    "  - $L \\to L: 0.9$, $L \\to H: 0.1$.  \n",
    "- **Emissions**:  \n",
    "  - $H$: $P(G/C) = 0.4$, $P(A/T) = 0.1$.  \n",
    "  - $L$: $P(A/T) = 0.4$, $P(G/C) = 0.1$.  \n",
    "\n",
    "**Observed Sequence: `GCTGCA`** \n",
    "The Viterbi algorithm computes the most likely state sequence (e.g., `HHHHHH` if high GC dominates).  \n",
    "\n",
    "## 3. Summary  \n",
    "- **HMMs** model systems with hidden states and observable outputs.  \n",
    "- **Viterbi** efficiently decodes the optimal state sequence using dynamic programming.  \n",
    "- Applications span genomics, NLP, speech recognition, and more.  "
   ]
  },
  {
   "cell_type": "markdown",
   "id": "9822bd7b",
   "metadata": {},
   "source": [
    "## IMPORTANT\n",
    "\n",
    "I have implemented two versions of the Viterbi algorithm due to confusion regarding the correct handling of the transition to the `END` state.\n",
    "\n",
    "- **First Implementation**:\n",
    "  - This version **handles the transition to `END` only if the last state is `I`**.\n",
    "  - Consequently, paths ending in states other than `I` (e.g., all `'E'`s) are **not penalized** and can yield a valid probability.\n",
    "  - This results in the best path being **all `'E'`s**, and the log probability is finite.\n",
    "  - This version matches the solution found on GitHub and treats the `END` state transition as optional or dependent only on ending in `I`.\n",
    "\n",
    "- **Second Implementation**:\n",
    "  - Here, **the transition to the `END` state is applied regardless of the final state**.\n",
    "  - Since the only non-zero probability of transitioning to `END` is from `I`, paths that **do not end in `I`** will have a **log probability of `-inf`**.\n",
    "  - As a result, paths like all `'E'`s are **not valid** final paths.\n",
    "  - This forces the algorithm to choose a path that ends in `I`, resulting in a best path of `'EEEEEEEEEEEEEEEEEE5IIIIIII'`.\n",
    "\n",
    "> **Note:** This difference does **not fundamentally alter the core implementation or logic** of the Viterbi algorithm. It only changes how the final transition is treated, which affects the resulting path under certain HMM configurations."
   ]
  },
  {
   "cell_type": "markdown",
   "id": "87619783",
   "metadata": {},
   "source": [
    "### HMM Parameter Setup (Common for Both Implementation)\n",
    "\n",
    "Defines the states, transition and emission probabilities for a simple gene structure HMM (Exon → Splice-site → Intron), and includes a helper `log(x)` function to handle log-probabilities safely.\n"
   ]
  },
  {
   "cell_type": "code",
   "execution_count": 70,
   "id": "8fdf93fa",
   "metadata": {},
   "outputs": [],
   "source": [
    "# Defining HMM Parameters:\n",
    "# 1. States -> E (exon) and I (intron)\n",
    "import numpy as np\n",
    "states = ['E', '5', 'I']\n",
    "nucleotides = ['A', 'C', 'G', 'T']\n",
    "# 2. Initial Probabilities: Probability of starting with an E or an I\n",
    "# Considering equal probabilities for both the states in the starting\n",
    "initial_probabilities = {'E': 1.0, '5': 0.0, 'I': 0.0}\n",
    "# 3. Transition matrix: Probabilities of moving from one state to another\n",
    "transition_probabilities = {\n",
    "    'Start': {'E':1.0, '5': 0, 'I': 0.0, 'End':0.0},\n",
    "    'E': {'E': 0.9, '5': 0.1 , 'I': 0.0, 'End': 0.0},\n",
    "    '5': {'E': 0.0, '5': 0.0 , 'I': 1.0, 'End': 0.0},\n",
    "    'I': {'E': 0.0, '5': 0.0 , 'I': 0.9, 'End': 0.1}\n",
    "}\n",
    "# 4. Emission probabilities: Probability of emitting nucleotides (A, C, G, T) in each state\n",
    "emission_probs = {\n",
    "    'E': {'A': 0.25, 'C': 0.25, 'G': 0.25, 'T': 0.25},\n",
    "    '5': {'A': 0.05, 'C': 0.00, 'G': 0.95, 'T': 0.00},\n",
    "    'I': {'A': 0.4, 'C': 0.1, 'G': 0.1, 'T': 0.4},\n",
    "}\n",
    "\n",
    "import math\n",
    "def log(x):\n",
    "    if(x == 0):\n",
    "        return -math.inf\n",
    "    else:\n",
    "        return math.log(x)"
   ]
  },
  {
   "cell_type": "markdown",
   "id": "2c8a78c8",
   "metadata": {},
   "source": [
    "## Implementation 1\n"
   ]
  },
  {
   "cell_type": "markdown",
   "id": "cf90deee",
   "metadata": {},
   "source": [
    "### Log Probability of a Given Path\n",
    "\n",
    "Defines a function that calculates the total log probability of an observed sequence being generated by a specific path through the HMM states, including transitions and emissions.\n"
   ]
  },
  {
   "cell_type": "code",
   "execution_count": 71,
   "id": "72f8a9d7",
   "metadata": {},
   "outputs": [
    {
     "name": "stdout",
     "output_type": "stream",
     "text": [
      "Log-probability of given path: -41.21967768602254\n"
     ]
    }
   ],
   "source": [
    "def get_log_prob_of_a_given_path(state_path, observed_sequence):\n",
    "    log_prob = 0.0\n",
    "    if len(state_path)!=len(observed_sequence):\n",
    "        raise ValueError(\"The length of state path and the observed sequence must be same\")\n",
    "    prev_state = 'Start'\n",
    "\n",
    "    for i in range(len(observed_sequence)):\n",
    "        current_state = state_path[i]\n",
    "        observed_state = observed_sequence[i]\n",
    "        log_prob += log(transition_probabilities[prev_state][current_state])+log(emission_probs[current_state][observed_state])\n",
    "        prev_state = current_state\n",
    "    if(prev_state == 'I'):\n",
    "        log_prob += log(transition_probabilities[prev_state]['End'])\n",
    "\n",
    "    return log_prob\n",
    "\n",
    "# Example Usage\n",
    "state_path = \"EEEEEEEEEEEEEEEEEE5IIIIIII\"\n",
    "observed_sequence = \"CTTCATGTGAAAGCAGACGTAAGTCA\"\n",
    "ans = get_log_prob_of_a_given_path(state_path, observed_sequence)\n",
    "\n",
    "print(\"Log-probability of given path:\", ans)"
   ]
  },
  {
   "cell_type": "markdown",
   "id": "810ed6cf",
   "metadata": {},
   "source": [
    "### Viterbi Algorithm\n",
    "\n",
    "This function implements the Viterbi algorithm to find the most probable sequence of hidden states (state path) that explains a given observed sequence.\n",
    "\n",
    "#### How it works:\n",
    "1. **Initialization**:  \n",
    "   The first column of the Viterbi matrix is filled using initial state probabilities and emission probabilities for the first observed symbol.\n",
    "\n",
    "2. **Recursion**:  \n",
    "   For each observation position, it calculates the highest log-probability of arriving at each state from any previous state, storing both the value and the path taken (via backpointers).\n",
    "\n",
    "3. **Termination & Backtracking**:  \n",
    "   It identifies the best final state, then traces back using the backpointers to reconstruct the most probable path.\n",
    "\n",
    "4. **Output**:  \n",
    "   Returns the best path as a string and the associated maximum log-probability.\n"
   ]
  },
  {
   "cell_type": "code",
   "execution_count": 72,
   "id": "bec9ba5f",
   "metadata": {},
   "outputs": [
    {
     "name": "stdout",
     "output_type": "stream",
     "text": [
      "Most probable path is EEEEEEEEEEEEEEEEEEEEEEEEEE with log probability -38.677666280562796\n"
     ]
    }
   ],
   "source": [
    "def viterbiAlgo(observed_sequence):\n",
    "    num_states = len(states)\n",
    "    num_observations = len(observed_sequence)\n",
    "    viterbi_matrix = np.full((num_states, num_observations), -np.inf)\n",
    "    backpointers = np.zeros((num_states, num_observations), dtype=int)\n",
    "    state_to_index = {s: i for i, s in enumerate(states)}\n",
    "\n",
    "    # Initialize first column\n",
    "    for i, state in enumerate(states):\n",
    "        viterbi_matrix[i, 0] = log(initial_probabilities[state]) + log(emission_probs[state][observed_sequence[0]])\n",
    "\n",
    "    # Fill DP table\n",
    "    for k in range(1, num_observations):\n",
    "        for curr_idx, curr_state in enumerate(states):\n",
    "            max_log_prob = -np.inf\n",
    "            best_prev_idx = 0\n",
    "            for prev_idx, prev_state in enumerate(states):\n",
    "                log_prob = viterbi_matrix[prev_idx, k-1] + log(transition_probabilities[prev_state][curr_state])\n",
    "                if log_prob > max_log_prob:\n",
    "                    max_log_prob = log_prob\n",
    "                    best_prev_idx = prev_idx\n",
    "            viterbi_matrix[curr_idx, k] = max_log_prob + log(emission_probs[curr_state][observed_sequence[k]])\n",
    "            backpointers[curr_idx, k] = best_prev_idx\n",
    "\n",
    "    # Backtrack to find best path\n",
    "    best_path = []\n",
    "    best_final_idx = np.argmax(viterbi_matrix[:, -1])\n",
    "    best_path.append(states[best_final_idx])\n",
    "\n",
    "    for i in range(num_observations-1, 0, -1):\n",
    "        best_final_idx = backpointers[best_final_idx, i]\n",
    "        best_path.insert(0, states[best_final_idx])\n",
    "\n",
    "    # Convert list to string\n",
    "    best_path_str = ''.join(best_path)\n",
    "    return best_path_str, np.max(viterbi_matrix[:, -1])\n",
    "\n",
    "\n",
    "# Finding the best path for our observed sequence\n",
    "observed_sequence = \"CTTCATGTGAAAGCAGACGTAAGTCA\"\n",
    "best_path, log_prob = viterbiAlgo(observed_sequence)\n",
    "print(f\"Most probable path is {best_path} with log probability {log_prob}\" )"
   ]
  },
  {
   "cell_type": "markdown",
   "id": "f9999250",
   "metadata": {},
   "source": [
    "## Implementation 2"
   ]
  },
  {
   "cell_type": "markdown",
   "id": "1b25a9d8",
   "metadata": {},
   "source": [
    "### Log Probability of a Given Path\n",
    "\n",
    "This function calculates the total log probability of an observed sequence being generated by a specific path through the HMM states, including transitions and emissions.\n",
    "\n",
    "- Always includes a final transition to the `'End'` state."
   ]
  },
  {
   "cell_type": "code",
   "execution_count": 73,
   "id": "b2df371f",
   "metadata": {},
   "outputs": [
    {
     "name": "stdout",
     "output_type": "stream",
     "text": [
      "Log-probability of given path: -41.21967768602254\n"
     ]
    }
   ],
   "source": [
    "def get_log_prob_of_a_given_path(state_path, observed_sequence):\n",
    "    logp = 0.0\n",
    "    if len(state_path) != len(observed_sequence):\n",
    "        raise ValueError(\"state_path and observed must have the same length\")\n",
    "    prev_state = 'Start'\n",
    "\n",
    "    for i in range(len(observed_sequence)):\n",
    "        current_state  = state_path[i]\n",
    "        observed_state = observed_sequence[i]\n",
    "        logp += log(transition_probabilities[prev_state][current_state])\n",
    "        logp += log(emission_probs[current_state][observed_state])\n",
    "        prev_state = current_state\n",
    "\n",
    "    # final transition to End (always applied)\n",
    "    logp += log(transition_probabilities[prev_state]['End'])\n",
    "\n",
    "    return logp\n",
    "\n",
    "# Example Usage\n",
    "state_path = \"EEEEEEEEEEEEEEEEEE5IIIIIII\"\n",
    "observed_sequence = \"CTTCATGTGAAAGCAGACGTAAGTCA\"\n",
    "ans = get_log_prob_of_a_given_path(state_path, observed_sequence)\n",
    "\n",
    "print(\"Log-probability of given path:\", ans)"
   ]
  },
  {
   "cell_type": "markdown",
   "id": "970f6f08",
   "metadata": {},
   "source": [
    "#### Log Probability for all `Es` in this implementation is `-inf` due to zero probability of transitioning from `'E'` to `'END'`."
   ]
  },
  {
   "cell_type": "code",
   "execution_count": 74,
   "id": "2c7ce19b",
   "metadata": {},
   "outputs": [
    {
     "name": "stdout",
     "output_type": "stream",
     "text": [
      "Log-probability of given path: -inf\n"
     ]
    }
   ],
   "source": [
    "state_path = \"EEEEEEEEEEEEEEEEEEEEEEEEEE\"\n",
    "observed_sequence = \"CTTCATGTGAAAGCAGACGTAAGTCA\"\n",
    "ans = get_log_prob_of_a_given_path(state_path, observed_sequence)\n",
    "\n",
    "print(\"Log-probability of given path:\", ans)"
   ]
  },
  {
   "cell_type": "markdown",
   "id": "d1d64910",
   "metadata": {},
   "source": [
    "### Modified Viterbi Algorithm with Termination to End State\n",
    "\n",
    "This function computes the most probable hidden state sequence for a given observed sequence using the Viterbi algorithm, and includes a final transition to the `'End'` state.\n",
    "\n",
    "#### How it works:\n",
    "- **Initialization**: Sets up the first column using `initial_probabilities` and emission probabilities.\n",
    "- **Recursion**: Builds up the Viterbi matrix with max log-probabilities and backpointers for each step.\n",
    "- **Termination**: Incorporates the log-probability of transitioning from the final state to `'End'`.\n",
    "- **Backtracking**: Uses backpointers to reconstruct the most probable path in reverse.\n",
    "- Returns the state path as a string and the final log-probability.\n"
   ]
  },
  {
   "cell_type": "code",
   "execution_count": 75,
   "id": "952c3638",
   "metadata": {},
   "outputs": [
    {
     "name": "stdout",
     "output_type": "stream",
     "text": [
      "Most probable path is EEEEEEEEEEEEEEEEEE5IIIIIII with log probability -41.21967768602254\n"
     ]
    }
   ],
   "source": [
    "def viterbiAlgo(observed_sequence):\n",
    "    num_states = len(states)\n",
    "    num_observations = len(observed_sequence)\n",
    "    viterbi_matrix = np.full((num_states, num_observations), -np.inf)\n",
    "    backpointers = np.zeros((num_states, num_observations), dtype=int)\n",
    "    state_to_index = {s: i for i, s in enumerate(states)}\n",
    "\n",
    "    # Initialize first column (USING INITIAL_PROBABILITIES)\n",
    "    for i, state in enumerate(states):\n",
    "        viterbi_matrix[i, 0] = log(initial_probabilities[state]) + log(emission_probs[state][observed_sequence[0]])\n",
    "\n",
    "    # Fill DP table\n",
    "    for k in range(1, num_observations):\n",
    "        for curr_idx, curr_state in enumerate(states):\n",
    "            max_log_prob = -np.inf\n",
    "            best_prev_idx = 0\n",
    "            for prev_idx, prev_state in enumerate(states):\n",
    "                log_prob = viterbi_matrix[prev_idx, k-1] + log(transition_probabilities[prev_state][curr_state])\n",
    "                if log_prob > max_log_prob:\n",
    "                    max_log_prob = log_prob\n",
    "                    best_prev_idx = prev_idx\n",
    "            viterbi_matrix[curr_idx, k] = max_log_prob + log(emission_probs[curr_state][observed_sequence[k]])\n",
    "            backpointers[curr_idx, k] = best_prev_idx\n",
    "\n",
    "    # Termination with END State\n",
    "    best_final_prob = -np.inf\n",
    "    last_state_idx = 0\n",
    "    for i, state in enumerate(states):\n",
    "        prob = viterbi_matrix[i, -1] + log(transition_probabilities[state]['End'])\n",
    "        if prob > best_final_prob:\n",
    "            best_final_prob = prob\n",
    "            last_state_idx = i\n",
    "\n",
    "    # Backtrack to find best path \n",
    "    best_path = []\n",
    "    best_path.append(states[last_state_idx])\n",
    "\n",
    "    for i in range(num_observations-1, 0, -1):\n",
    "        last_state_idx = backpointers[last_state_idx, i]\n",
    "        best_path.insert(0, states[last_state_idx])\n",
    "\n",
    "    best_path_str = ''.join(best_path)\n",
    "    return best_path_str, best_final_prob  # Return the computed final probability\n",
    "\n",
    "# Finding the best path for our observed sequence\n",
    "observed_sequence = \"CTTCATGTGAAAGCAGACGTAAGTCA\"\n",
    "best_path, log_prob = viterbiAlgo(observed_sequence)\n",
    "print(f\"Most probable path is {best_path} with log probability {log_prob}\" )"
   ]
  }
 ],
 "metadata": {
  "kernelspec": {
   "display_name": "base",
   "language": "python",
   "name": "python3"
  },
  "language_info": {
   "codemirror_mode": {
    "name": "ipython",
    "version": 3
   },
   "file_extension": ".py",
   "mimetype": "text/x-python",
   "name": "python",
   "nbconvert_exporter": "python",
   "pygments_lexer": "ipython3",
   "version": "3.11.5"
  }
 },
 "nbformat": 4,
 "nbformat_minor": 5
}
